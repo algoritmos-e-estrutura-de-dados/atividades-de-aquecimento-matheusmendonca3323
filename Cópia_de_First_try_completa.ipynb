{
  "nbformat": 4,
  "nbformat_minor": 0,
  "metadata": {
    "colab": {
      "name": "Cópia de First try completa",
      "provenance": [],
      "toc_visible": true
    },
    "kernelspec": {
      "name": "python3",
      "display_name": "Python 3"
    },
    "language_info": {
      "name": "python"
    }
  },
  "cells": [
    {
      "cell_type": "markdown",
      "source": [
        "EXTREMELY BASIC\n"
      ],
      "metadata": {
        "id": "OYhJoBdxQmGq"
      }
    },
    {
      "cell_type": "code",
      "execution_count": null,
      "metadata": {
        "colab": {
          "base_uri": "https://localhost:8080/"
        },
        "id": "7Z0159Anp-Sc",
        "outputId": "ec118abb-0241-4adc-fba4-fee6e7aa3aed"
      },
      "outputs": [
        {
          "output_type": "stream",
          "name": "stdout",
          "text": [
            "Insira um numero\n",
            "-10\n",
            "Insira um numero para somar com o primeiro\n",
            "2\n",
            "x= -8\n"
          ]
        }
      ],
      "source": [
        "\n",
        "\n",
        "def soma (a,b): \n",
        "  return a+b \n",
        "\n",
        "print(\"Insira um numero\")\n",
        "a = int(input())\n",
        "print(\"Insira um numero para somar com o primeiro\")\n",
        "b = int (input())\n",
        "print(\"x=\",soma(a,b))\n"
      ]
    },
    {
      "cell_type": "markdown",
      "source": [
        "AREA DO CIRCULO "
      ],
      "metadata": {
        "id": "sJg72E49872y"
      }
    },
    {
      "cell_type": "code",
      "source": [
        "pi = 3.14159\n",
        "\n",
        "print (\"Insira o raio do circulo\")\n",
        "raio = float(input())\n",
        "area = pi*(raio**2)\n",
        "print (\"A area do circulo é:\",area)\n"
      ],
      "metadata": {
        "colab": {
          "base_uri": "https://localhost:8080/"
        },
        "id": "h1ctGDvh8_Hw",
        "outputId": "56604de0-ddaf-49b5-c989-537bbda53538"
      },
      "execution_count": null,
      "outputs": [
        {
          "output_type": "stream",
          "name": "stdout",
          "text": [
            "Insira o raio do circulo\n",
            "2\n",
            "A area do circulo é: 12.56\n"
          ]
        }
      ]
    },
    {
      "cell_type": "markdown",
      "source": [
        "SIMPLE SUM\n"
      ],
      "metadata": {
        "id": "ab3gaHtVAqIm"
      }
    },
    {
      "cell_type": "code",
      "source": [
        "def soma (a,b): \n",
        "  return a+b \n",
        "\n",
        "print(\"Insira um numero\")\n",
        "a = int(input())\n",
        "print(\"Insira um numero para somar com o primeiro\")\n",
        "b = int (input())\n",
        "print(\"soma =\",soma(a,b))"
      ],
      "metadata": {
        "id": "lfQe-R7oAuE8"
      },
      "execution_count": null,
      "outputs": []
    },
    {
      "cell_type": "markdown",
      "source": [
        "SIMPLE PRODUCT \n"
      ],
      "metadata": {
        "id": "gFwDrtwxBsze"
      }
    },
    {
      "cell_type": "code",
      "source": [
        " def prod (a,b): \n",
        "    return a*b\n",
        "\n",
        " print (\"Insira o primeiro numero do calculo de produto :\")\n",
        "a = float(input())\n",
        "print (\"Insira o numero para o calculo de produto:\")\n",
        "b = float(input())\n",
        "\n",
        "print(\"prod:\",prod(a,b))\n"
      ],
      "metadata": {
        "colab": {
          "base_uri": "https://localhost:8080/"
        },
        "id": "qAgZPxS9BvXm",
        "outputId": "61f26fef-b66f-4939-89bf-c36614eb342c"
      },
      "execution_count": null,
      "outputs": [
        {
          "output_type": "stream",
          "name": "stdout",
          "text": [
            "Insira o primeiro numero do calculo de produto :\n",
            "2\n",
            "Insira o numero para o calculo de produto:\n",
            "2\n",
            "prod: 4.0\n"
          ]
        }
      ]
    },
    {
      "cell_type": "markdown",
      "source": [
        "AVARAGE"
      ],
      "metadata": {
        "id": "okXe6dqiDwp9"
      }
    },
    {
      "cell_type": "code",
      "source": [
        "nota1 = float(input(\"Insira a primeira nota do aluno: \"))\n",
        "nota2 = float(input(\"Insira a segunda nota do aluno: \"))\n",
        "\n",
        "nota_final = ((nota1*3.5)+(nota2*7.5))/(3.5+7.5)\n",
        "\n",
        "print(\"A media ponderada do aluno com respectivos pesos 3.5 e 7.5 é: \",nota_final)"
      ],
      "metadata": {
        "id": "8zDppsj8D93E"
      },
      "execution_count": null,
      "outputs": []
    },
    {
      "cell_type": "markdown",
      "source": [
        "AVARAGE 2"
      ],
      "metadata": {
        "id": "01J9zqenOOG0"
      }
    },
    {
      "cell_type": "code",
      "source": [
        "nota1 = float(input(\"Insira a primeira nota do aluno: \"))\n",
        "nota2 = float(input(\"Insira a segunda nota do aluno: \"))\n",
        "nota3 = float(input(\"Insira a terceira nota do aluno: \"))\n",
        "\n",
        "nota_final = ((nota1*2)+(nota2*3)+(nota3*5))/(2+3+5)\n",
        "\n",
        "print(\"A media ponderada do aluno com respectivos pesos 2 , 3 e 5 é: \",nota_final)"
      ],
      "metadata": {
        "id": "-i9IMXvyOQq5"
      },
      "execution_count": null,
      "outputs": []
    },
    {
      "cell_type": "markdown",
      "source": [
        "DIFFERENCE"
      ],
      "metadata": {
        "id": "n5VSSp0yOWeg"
      }
    },
    {
      "cell_type": "code",
      "source": [
        "a = float(input(\"Insira o primeiro numero:\"))\n",
        "b = float(input(\"Insira o segundo numero:\"))\n",
        "c = float(input(\"Insira o terceiro numero:\"))\n",
        "d = float(input(\"Insira o quarto numero:\"))\n",
        "\n",
        "print(\"DIFERENCA : \",(a*b)-(c*d))"
      ],
      "metadata": {
        "id": "sTHbQmblOYeA"
      },
      "execution_count": null,
      "outputs": []
    },
    {
      "cell_type": "markdown",
      "source": [
        "SALARIO"
      ],
      "metadata": {
        "id": "gFJJrPsHOku4"
      }
    },
    {
      "cell_type": "code",
      "source": [
        "numero = int(input(\"Insira o numero do funcionario: \"))\n",
        "horas = float(input(\"Insira a quantidade de horas trabalhadas no mês:\"))\n",
        "pag_hora = float(input(\"Insira o pagamento dele/dela por hora: \"))\n",
        "\n",
        "print(\"NUMERO: \",numero,\"\\nSALARIO:\",horas*pag_hora)"
      ],
      "metadata": {
        "id": "rFYZR8xBOl9I"
      },
      "execution_count": null,
      "outputs": []
    },
    {
      "cell_type": "markdown",
      "source": [
        "SALARIO BONUS"
      ],
      "metadata": {
        "id": "6pXU4M6YOouw"
      }
    },
    {
      "cell_type": "code",
      "source": [
        "nome = input(\"Insira o nome do funcionario: \")\n",
        "salario_fixo = float(input(\"Insira o salario fixo do funcionario:\"))\n",
        "vendas = float(input(\"Insira o valor das vendas feitas pelo funcionario: \"))\n",
        "\n",
        "valor_final = salario_fixo + ((vendas*15)/100)\n",
        "\n",
        "print(\"O salario final do funcionario \",nome,\" com um bonus de 15% com as vendas feitas pelo mesmo, e de: \",valor_final)"
      ],
      "metadata": {
        "id": "bhGohZi6OqOB"
      },
      "execution_count": null,
      "outputs": []
    },
    {
      "cell_type": "markdown",
      "source": [
        "SIMPLE CALCULATE"
      ],
      "metadata": {
        "id": "APvCfcQROuJ3"
      }
    },
    {
      "cell_type": "code",
      "source": [
        "produto1 = [int(input(\"Insira o codigo do produto: \")),\n",
        "            int(input(\"Insira a quantidade: \")),\n",
        "            float(input(\"Insira o preco por unidade do produto: \"))]\n",
        "\n",
        "produto2 = [int(input(\"Insira o codigo do produto: \")),\n",
        "            int(input(\"Insira a quantidade: \")),\n",
        "            float(input(\"Insira o preco por unidade do produto: \"))]\n",
        "\n",
        "print(\"Valor a pagar: \",(produto1[1]*produto1[2])+(produto2[1]*produto2[2]))\n"
      ],
      "metadata": {
        "id": "XwgNl6XwOwb_"
      },
      "execution_count": null,
      "outputs": []
    },
    {
      "cell_type": "markdown",
      "source": [
        "SPHERE"
      ],
      "metadata": {
        "id": "_Ou8cl5xO7iv"
      }
    },
    {
      "cell_type": "code",
      "source": [
        "pi = 3.1415926535897932384626433\n",
        "raio = float(input(\"Insira o raio do esfera: \"))\n",
        "volume = (4/3)*pi*(raio**3)\n",
        "\n",
        "print(\"O volume da esfera e:\",volume)\n"
      ],
      "metadata": {
        "id": "QVJJvR0LO9Av"
      },
      "execution_count": null,
      "outputs": []
    },
    {
      "cell_type": "markdown",
      "source": [
        "AREA"
      ],
      "metadata": {
        "id": "aumzou47PAkH"
      }
    },
    {
      "cell_type": "code",
      "source": [
        "pi = 3.14159\n",
        "a = float(input(\"Insira um valor flutuante: \"))\n",
        "b = float(input(\"Insira um valor flutuante: \"))\n",
        "c = float(input(\"Insira um valor flutuante: \"))\n",
        "\n",
        "print(\"TRIANGULO: \",a*b/2)\n",
        "print(\"CIRCULO: \",pi*c**2)\n",
        "print(\"TRAPEZIO: \",(a+b)*c/2)\n",
        "print(\"QUADRADO: \",b**2)\n",
        "print(\"RETANGULO: \",a*b)"
      ],
      "metadata": {
        "id": "scgBLN9tPCKQ"
      },
      "execution_count": null,
      "outputs": []
    },
    {
      "cell_type": "markdown",
      "source": [
        "THE GREATEST"
      ],
      "metadata": {
        "id": "y7ia1j0kPL-f"
      }
    },
    {
      "cell_type": "code",
      "source": [
        "a = int(input(\"Insira um valor inteiro: \"))\n",
        "b = int(input(\"Insira um valor inteiro: \"))\n",
        "c = int(input(\"Insira um valor inteiro: \"))\n",
        "\n",
        "x = (a+b+abs(a-b))/2\n",
        "maior_numero = (x+c+abs(x-c))/2\n",
        "\n",
        "print(maior_numero, \"e o maior\")"
      ],
      "metadata": {
        "id": "ZXBs2ZdAPN_4"
      },
      "execution_count": null,
      "outputs": []
    },
    {
      "cell_type": "markdown",
      "source": [
        "CONSUMPTION\n"
      ],
      "metadata": {
        "id": "7HZ7KctWPUTw"
      }
    },
    {
      "cell_type": "code",
      "source": [
        "distancia = float(input(\"Insira a distancia percorrida em KM: \"))\n",
        "combustivel_gasto = float(input(\"Insira a quantidade em litros de combustivel gasto: \"))\n",
        "\n",
        "print(distancia*combustivel_gasto,\"KM/L\")"
      ],
      "metadata": {
        "id": "8dwNRxfkPWP3"
      },
      "execution_count": null,
      "outputs": []
    },
    {
      "cell_type": "markdown",
      "source": [
        "DISTANCIA"
      ],
      "metadata": {
        "id": "Pq2u7EtCPaZ5"
      }
    },
    {
      "cell_type": "code",
      "source": [
        "import math as m\n",
        "\n",
        "ponto1 = {\n",
        "    'dx' : float(input(\"Insira a distancia x do ponto 1: \")),\n",
        "    'dy' : float(input(\"Insira a distancia y do ponto 1: \"))\n",
        "    }\n",
        "\n",
        "ponto2 = {\n",
        "    'dx' : float(input(\"Insira a distancia x do ponto 2: \")),\n",
        "    'dy' : float(input(\"Insira a distancia y do ponto 2: \"))\n",
        "    }\n",
        "\n",
        "distancia = m.sqrt(((ponto2['dx']-ponto1['dx']))**2 + ((ponto1['dy']-ponto2['dy']))**2)\n",
        "\n",
        "print(\"A distancia entre os dois pontos e:\",distancia)"
      ],
      "metadata": {
        "id": "gZI3ZdyQPez5"
      },
      "execution_count": null,
      "outputs": []
    }
  ]
}
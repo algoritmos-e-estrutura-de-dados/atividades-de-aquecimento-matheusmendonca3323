{
  "nbformat": 4,
  "nbformat_minor": 0,
  "metadata": {
    "colab": {
      "name": "First try",
      "provenance": [],
      "toc_visible": true
    },
    "kernelspec": {
      "name": "python3",
      "display_name": "Python 3"
    },
    "language_info": {
      "name": "python"
    }
  },
  "cells": [
    {
      "cell_type": "code",
      "execution_count": null,
      "metadata": {
        "colab": {
          "base_uri": "https://localhost:8080/"
        },
        "id": "7Z0159Anp-Sc",
        "outputId": "ec118abb-0241-4adc-fba4-fee6e7aa3aed"
      },
      "outputs": [
        {
          "output_type": "stream",
          "name": "stdout",
          "text": [
            "Insira um numero\n",
            "-10\n",
            "Insira um numero para somar com o primeiro\n",
            "2\n",
            "x= -8\n"
          ]
        }
      ],
      "source": [
        "\n",
        "\n",
        "def soma (a,b): \n",
        "  return a+b \n",
        "\n",
        "print(\"Insira um numero\")\n",
        "a = int(input())\n",
        "print(\"Insira um numero para somar com o primeiro\")\n",
        "b = int (input())\n",
        "print(\"x=\",soma(a,b))\n"
      ]
    },
    {
      "cell_type": "markdown",
      "source": [
        "AREA DO CIRCULO "
      ],
      "metadata": {
        "id": "sJg72E49872y"
      }
    },
    {
      "cell_type": "code",
      "source": [
        "pi = 3.14159\n",
        "\n",
        "print (\"Insira o raio do circulo\")\n",
        "raio = float(input())\n",
        "area = pi*(raio**2)\n",
        "print (\"A area do circulo é:\",area)\n"
      ],
      "metadata": {
        "colab": {
          "base_uri": "https://localhost:8080/"
        },
        "id": "h1ctGDvh8_Hw",
        "outputId": "56604de0-ddaf-49b5-c989-537bbda53538"
      },
      "execution_count": null,
      "outputs": [
        {
          "output_type": "stream",
          "name": "stdout",
          "text": [
            "Insira o raio do circulo\n",
            "2\n",
            "A area do circulo é: 12.56\n"
          ]
        }
      ]
    },
    {
      "cell_type": "markdown",
      "source": [
        "SIMPLE SUM\n"
      ],
      "metadata": {
        "id": "ab3gaHtVAqIm"
      }
    },
    {
      "cell_type": "code",
      "source": [
        "def soma (a,b): \n",
        "  return a+b \n",
        "\n",
        "print(\"Insira um numero\")\n",
        "a = int(input())\n",
        "print(\"Insira um numero para somar com o primeiro\")\n",
        "b = int (input())\n",
        "print(\"soma =\",soma(a,b))"
      ],
      "metadata": {
        "id": "lfQe-R7oAuE8"
      },
      "execution_count": null,
      "outputs": []
    },
    {
      "cell_type": "markdown",
      "source": [
        "SIMPLE PRODUCT \n"
      ],
      "metadata": {
        "id": "gFwDrtwxBsze"
      }
    },
    {
      "cell_type": "code",
      "source": [
        " def prod (a,b): \n",
        "    return a*b\n",
        "\n",
        " print (\"Insira o primeiro numero do calculo de produto :\")\n",
        "a = float(input())\n",
        "print (\"Insira o numero para o calculo de produto:\")\n",
        "b = float(input())\n",
        "\n",
        "print(\"prod:\",prod(a,b))\n"
      ],
      "metadata": {
        "colab": {
          "base_uri": "https://localhost:8080/"
        },
        "id": "qAgZPxS9BvXm",
        "outputId": "61f26fef-b66f-4939-89bf-c36614eb342c"
      },
      "execution_count": null,
      "outputs": [
        {
          "output_type": "stream",
          "name": "stdout",
          "text": [
            "Insira o primeiro numero do calculo de produto :\n",
            "2\n",
            "Insira o numero para o calculo de produto:\n",
            "2\n",
            "prod: 4.0\n"
          ]
        }
      ]
    },
    {
      "cell_type": "markdown",
      "source": [
        "AVARAGE"
      ],
      "metadata": {
        "id": "okXe6dqiDwp9"
      }
    },
    {
      "cell_type": "code",
      "source": [
        ""
      ],
      "metadata": {
        "id": "8zDppsj8D93E"
      },
      "execution_count": null,
      "outputs": []
    }
  ]
}